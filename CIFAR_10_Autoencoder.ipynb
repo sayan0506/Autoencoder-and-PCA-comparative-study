{
  "nbformat": 4,
  "nbformat_minor": 0,
  "metadata": {
    "accelerator": "GPU",
    "kernelspec": {
      "display_name": "Python 3",
      "language": "python",
      "name": "python3"
    },
    "language_info": {
      "codemirror_mode": {
        "name": "ipython",
        "version": 3
      },
      "file_extension": ".py",
      "mimetype": "text/x-python",
      "name": "python",
      "nbconvert_exporter": "python",
      "pygments_lexer": "ipython3",
      "version": "3.7.4"
    },
    "colab": {
      "name": "CIFAR-10 Autoencoder.ipynb",
      "provenance": [],
      "collapsed_sections": [],
      "include_colab_link": true
    }
  },
  "cells": [
    {
      "cell_type": "markdown",
      "metadata": {
        "id": "view-in-github",
        "colab_type": "text"
      },
      "source": [
        "<a href=\"https://colab.research.google.com/github/sayan0506/Autoencoder-and-PCA-comparative-study/blob/master/CIFAR_10_Autoencoder.ipynb\" target=\"_parent\"><img src=\"https://colab.research.google.com/assets/colab-badge.svg\" alt=\"Open In Colab\"/></a>"
      ]
    },
    {
      "cell_type": "markdown",
      "metadata": {
        "id": "L6S2HVAkSt0p"
      },
      "source": [
        "# CIFAR-10 Autoencoder\n",
        "\n",
        "\n",
        "For this week, you will create a convolutional autoencoder for the [CIFAR10](https://www.tensorflow.org/datasets/catalog/cifar10) dataset. You are free to choose the architecture of your autoencoder provided that the output image has the same dimensions as the input image.\n",
        "\n",
        "After training, your model should meet loss and accuracy requirements when evaluated with the test dataset. You will then download the model and upload it in the classroom for grading. \n",
        "\n",
        "Let's begin!"
      ]
    },
    {
      "cell_type": "markdown",
      "metadata": {
        "id": "6r4iPr2jyisR"
      },
      "source": [
        "***Important:*** *This colab notebook has read-only access so you won't be able to save your changes. If you want to save your work periodically, please click `File -> Save a Copy in Drive` to create a copy in your account, then work from there.*  "
      ]
    },
    {
      "cell_type": "markdown",
      "metadata": {
        "id": "g1mzy2J8_nc1"
      },
      "source": [
        "## Imports"
      ]
    },
    {
      "cell_type": "code",
      "metadata": {
        "id": "3EXwoz-KHtWO"
      },
      "source": [
        "try:\n",
        "  # %tensorflow_version only exists in Colab.\n",
        "  %tensorflow_version 2.x\n",
        "except Exception:\n",
        "  pass\n",
        "\n",
        "import tensorflow as tf\n",
        "import tensorflow_datasets as tfds\n",
        "\n",
        "import numpy as np\n",
        "\n",
        "from keras.models import Sequential\n",
        "from matplotlib import pyplot as plt"
      ],
      "execution_count": 72,
      "outputs": []
    },
    {
      "cell_type": "markdown",
      "metadata": {
        "id": "vIdiyQ69M64D"
      },
      "source": [
        "# Clear Session"
      ]
    },
    {
      "cell_type": "code",
      "metadata": {
        "id": "N_RKvolyM-Ok"
      },
      "source": [
        "tf.keras.backend.clear_session()"
      ],
      "execution_count": 52,
      "outputs": []
    },
    {
      "cell_type": "markdown",
      "metadata": {
        "id": "n2Gs6Lyc_pd0"
      },
      "source": [
        "## Load and prepare the dataset\n",
        "\n",
        "The [CIFAR 10](https://www.tensorflow.org/datasets/catalog/cifar10) dataset already has train and test splits and you can use those in this exercise. Here are the general steps:\n",
        "\n",
        "* Load the train/test split from TFDS. Set `as_supervised` to `True` so it will be convenient to use the preprocessing function we provided.\n",
        "* Normalize the pixel values to the range [0,1], then return `image, image` pairs for training instead of `image, label`. This is because you will check if the output image is successfully regenerated after going through your autoencoder.\n",
        "* Shuffle and batch the train set. Batch the test set (no need to shuffle).\n"
      ]
    },
    {
      "cell_type": "code",
      "metadata": {
        "id": "t9F7YsCNIKSA",
        "colab": {
          "base_uri": "https://localhost:8080/"
        },
        "outputId": "a547d5c5-3479-4631-850e-7645f0eca751"
      },
      "source": [
        "# preprocessing function\n",
        "def map_image(image, label):\n",
        "  image = tf.cast(image, dtype=tf.float32)\n",
        "  image = image / 255.0\n",
        "\n",
        "  return image, image # dataset label is not used. replaced with the same image input.\n",
        "\n",
        "# parameters\n",
        "BATCH_SIZE = 128\n",
        "SHUFFLE_BUFFER_SIZE = 1024\n",
        "\n",
        "\n",
        "### START CODE HERE (Replace instances of `None` with your code) ###\n",
        "\n",
        "# use tfds.load() to fetch the 'train' split of CIFAR-10\n",
        "train_dataset = tfds.load('cifar10', split='train', as_supervised=True)\n",
        "print(len(train_dataset))\n",
        "# preprocess the dataset with the `map_image()` function above\n",
        "train_dataset = train_dataset.map(map_image)\n",
        "\n",
        "# shuffle and batch the dataset\n",
        "train_dataset = train_dataset.shuffle(SHUFFLE_BUFFER_SIZE).batch(BATCH_SIZE).repeat()\n",
        "\n",
        "\n",
        "# use tfds.load() to fetch the 'test' split of CIFAR-10\n",
        "test_dataset = tfds.load('cifar10', split = 'test', as_supervised=True)\n",
        "print(len(test_dataset))\n",
        "# preprocess the dataset with the `map_image()` function above\n",
        "test_dataset = test_dataset.map(map_image)\n",
        "\n",
        "# batch the dataset\n",
        "test_dataset = test_dataset.batch(BATCH_SIZE).repeat()\n",
        "\n",
        "### END CODE HERE ###"
      ],
      "execution_count": 89,
      "outputs": [
        {
          "output_type": "stream",
          "text": [
            "50000\n",
            "10000\n"
          ],
          "name": "stdout"
        }
      ]
    },
    {
      "cell_type": "markdown",
      "metadata": {
        "id": "rPyOgGJs_t98"
      },
      "source": [
        "## Build the Model\n",
        "\n",
        "Create the autoencoder model. As shown in the lectures, you will want to downsample the image in the encoder layers then upsample it in the decoder path. Note that the output layer should be the same dimensions as the original image. Your input images will have the shape `(32, 32, 3)`. If you deviate from this, your model may not be recognized by the grader and may fail. \n",
        "\n",
        "We included a few hints to use the Sequential API below but feel free to remove it and use the Functional API just like in the ungraded labs if you're more comfortable with it. Another reason to use the latter is if you want to visualize the encoder output. As shown in the ungraded labs, it will be easier to indicate multiple outputs with the Functional API. That is not required for this assignment though so you can just stack layers sequentially if you want a simpler solution."
      ]
    },
    {
      "cell_type": "code",
      "metadata": {
        "id": "Wr-Bok3lRgA3"
      },
      "source": [
        "# suggested layers to use. feel free to add or remove as you see fit.\n",
        "from keras.layers import Conv2D, UpSampling2D\n",
        "\n",
        "# use the Sequential API (you can remove if you want to use the Functional API)\n",
        "model = tf.keras.Sequential([tf.keras.layers.Conv2D(filters=64, kernel_size=(3,3), activation='relu', padding = 'same', input_shape = (32,32,3)),\n",
        "           tf.keras.layers.MaxPool2D(pool_size=(2,2)),\n",
        "           tf.keras.layers.Conv2D(filters=128, kernel_size=(3,3), activation='relu', padding = 'same'),\n",
        "           tf.keras.layers.MaxPool2D(pool_size=(2,2)),\n",
        "           tf.keras.layers.Conv2D(filters=256, kernel_size=(3,3), activation='relu', padding = 'same'),\n",
        "           #tf.keras.layers.Conv2D(filters=512, kernel_size=(3,3), activation='relu', padding = 'same'),\n",
        "           tf.keras.layers.Conv2D(filters=128, kernel_size=(3,3), activation='relu', padding = 'same'),\n",
        "           tf.keras.layers.UpSampling2D(size=(2,2)),\n",
        "           tf.keras.layers.Conv2D(filters=64, kernel_size=(3,3), activation='relu', padding = 'same'),\n",
        "           tf.keras.layers.UpSampling2D(size=(2,2)),\n",
        "           # output channel is 3, so at last layers 3 kernels are used \n",
        "           tf.keras.layers.Conv2D(filters=3, kernel_size=(3,3), activation='relu', padding = 'same')\n",
        "           ])\n",
        "\n",
        "### START CODE HERE ###\n",
        "# use `model.add()` to add layers (if using the Sequential API)\n",
        "#model.add()\n",
        "\n",
        "\n",
        "### END CODE HERE ###\n",
        "\n",
        "#model.summary()"
      ],
      "execution_count": 90,
      "outputs": []
    },
    {
      "cell_type": "markdown",
      "metadata": {
        "id": "jRWTAijKEVUC"
      },
      "source": [
        "## Configure training parameters\n",
        "\n",
        "We have already provided the optimizer, metrics, and loss in the code below."
      ]
    },
    {
      "cell_type": "code",
      "metadata": {
        "id": "iHIeD9eDETSk"
      },
      "source": [
        "# Please do not change the model.compile() parameters\n",
        "model.compile(optimizer='adam', metrics=['accuracy'], loss='mean_squared_error')"
      ],
      "execution_count": 91,
      "outputs": []
    },
    {
      "cell_type": "markdown",
      "metadata": {
        "id": "tLQPhm1W_8dC"
      },
      "source": [
        "## Training\n",
        "\n",
        "You can now use [model.fit()](https://keras.io/api/models/model_training_apis/#fit-method) to train your model. You will pass in the `train_dataset` and you are free to configure the other parameters. As with any training, you should see the loss generally going down and the accuracy going up with each epoch. If not, please revisit the previous sections to find possible bugs.\n",
        "\n",
        "*Note: If you get a `dataset length is infinite` error. Please check how you defined `train_dataset`. You might have included a [method that repeats the dataset indefinitely](https://www.tensorflow.org/api_docs/python/tf/data/Dataset#repeat).*"
      ]
    },
    {
      "cell_type": "code",
      "metadata": {
        "id": "AMBimOnsRvg0",
        "colab": {
          "base_uri": "https://localhost:8080/"
        },
        "outputId": "8bfd80fd-83c1-48ab-facd-838344e9d013"
      },
      "source": [
        "# parameters (feel free to change this)\n",
        "train_steps = 60000 // BATCH_SIZE \n",
        "val_steps = 10000 // BATCH_SIZE\n",
        "\n",
        "### START CODE HERE ###\n",
        "model.fit(train_dataset, batch_size=BATCH_SIZE, epochs = 10, verbose = 1, validation_data=test_dataset, steps_per_epoch=train_steps, validation_steps=val_steps)\n",
        "### END CODE HERE ###"
      ],
      "execution_count": 92,
      "outputs": [
        {
          "output_type": "stream",
          "text": [
            "Epoch 1/10\n",
            "468/468 [==============================] - 15s 31ms/step - loss: 0.0289 - accuracy: 0.5870 - val_loss: 0.0042 - val_accuracy: 0.7921\n",
            "Epoch 2/10\n",
            "468/468 [==============================] - 12s 25ms/step - loss: 0.0042 - accuracy: 0.7864 - val_loss: 0.0032 - val_accuracy: 0.7842\n",
            "Epoch 3/10\n",
            "468/468 [==============================] - 12s 25ms/step - loss: 0.0033 - accuracy: 0.7989 - val_loss: 0.0026 - val_accuracy: 0.7993\n",
            "Epoch 4/10\n",
            "468/468 [==============================] - 12s 25ms/step - loss: 0.0026 - accuracy: 0.8064 - val_loss: 0.0022 - val_accuracy: 0.8277\n",
            "Epoch 5/10\n",
            "468/468 [==============================] - 11s 24ms/step - loss: 0.0023 - accuracy: 0.8145 - val_loss: 0.0021 - val_accuracy: 0.8048\n",
            "Epoch 6/10\n",
            "468/468 [==============================] - 12s 25ms/step - loss: 0.0020 - accuracy: 0.8194 - val_loss: 0.0019 - val_accuracy: 0.8407\n",
            "Epoch 7/10\n",
            "468/468 [==============================] - 11s 24ms/step - loss: 0.0019 - accuracy: 0.8230 - val_loss: 0.0017 - val_accuracy: 0.8248\n",
            "Epoch 8/10\n",
            "468/468 [==============================] - 11s 25ms/step - loss: 0.0017 - accuracy: 0.8299 - val_loss: 0.0018 - val_accuracy: 0.8496\n",
            "Epoch 9/10\n",
            "468/468 [==============================] - 12s 25ms/step - loss: 0.0016 - accuracy: 0.8348 - val_loss: 0.0016 - val_accuracy: 0.8516\n",
            "Epoch 10/10\n",
            "468/468 [==============================] - 11s 25ms/step - loss: 0.0016 - accuracy: 0.8321 - val_loss: 0.0014 - val_accuracy: 0.8555\n"
          ],
          "name": "stdout"
        },
        {
          "output_type": "execute_result",
          "data": {
            "text/plain": [
              "<tensorflow.python.keras.callbacks.History at 0x7fc130940190>"
            ]
          },
          "metadata": {
            "tags": []
          },
          "execution_count": 92
        }
      ]
    },
    {
      "cell_type": "markdown",
      "metadata": {
        "id": "PT2l1c-SAaF4"
      },
      "source": [
        "## Model evaluation\n",
        "\n",
        "You can use this code to test your model locally before uploading to the grader. To pass, your model needs to satisfy these two requirements:\n",
        "\n",
        "* loss must be less than 0.01 \n",
        "* accuracy must be greater than 0.6"
      ]
    },
    {
      "cell_type": "code",
      "metadata": {
        "id": "vFncgqahSQhA",
        "colab": {
          "base_uri": "https://localhost:8080/"
        },
        "outputId": "422c1c94-1a1b-4a1d-cbd8-8c90a11b60e5"
      },
      "source": [
        "result = model.evaluate(test_dataset, steps=10)"
      ],
      "execution_count": 93,
      "outputs": [
        {
          "output_type": "stream",
          "text": [
            "10/10 [==============================] - 0s 10ms/step - loss: 0.0014 - accuracy: 0.8557\n"
          ],
          "name": "stdout"
        }
      ]
    },
    {
      "cell_type": "code",
      "metadata": {
        "colab": {
          "base_uri": "https://localhost:8080/"
        },
        "id": "NpDVgXkRN75w",
        "outputId": "65907a51-71f6-41cb-d0b7-f5eea2fdc72d"
      },
      "source": [
        "result"
      ],
      "execution_count": 94,
      "outputs": [
        {
          "output_type": "execute_result",
          "data": {
            "text/plain": [
              "[0.0013612315524369478, 0.855695366859436]"
            ]
          },
          "metadata": {
            "tags": []
          },
          "execution_count": 94
        }
      ]
    },
    {
      "cell_type": "code",
      "metadata": {
        "colab": {
          "base_uri": "https://localhost:8080/",
          "height": 195
        },
        "id": "SN6rUXqPRJjy",
        "outputId": "44cdccc5-30e5-40ab-9e86-050fc58612a3"
      },
      "source": [
        "features, label = iter(train_dataset).next()\r\n",
        "plt.subplot(131)\r\n",
        "plt.imshow(np.squeeze(features[0]))\r\n",
        "plt.xlabel('Input Sample')\r\n",
        "plt.subplot(132)\r\n",
        "plt.imshow(np.squeeze(label[0]))\r\n",
        "plt.xlabel('Output Sample')\r\n",
        "plt.subplot(133)\r\n",
        "img = features[0][np.newaxis,:]\r\n",
        "print(img.shape)\r\n",
        "plt.imshow(np.squeeze(model.predict(img)))\r\n",
        "plt.xlabel('Predicted Sample')\r\n",
        "plt.show()"
      ],
      "execution_count": 106,
      "outputs": [
        {
          "output_type": "stream",
          "text": [
            "WARNING:matplotlib.image:Clipping input data to the valid range for imshow with RGB data ([0..1] for floats or [0..255] for integers).\n"
          ],
          "name": "stderr"
        },
        {
          "output_type": "stream",
          "text": [
            "(1, 32, 32, 3)\n"
          ],
          "name": "stdout"
        },
        {
          "output_type": "display_data",
          "data": {
            "image/png": "[encoded data removed]",
            "text/plain": [
              "<Figure size 432x288 with 3 Axes>"
            ]
          },
          "metadata": {
            "tags": [],
            "needs_background": "light"
          }
        }
      ]
    },
    {
      "cell_type": "markdown",
      "metadata": {
        "id": "di6VOHGwIsVM"
      },
      "source": [
        "If you did some visualization like in the ungraded labs, then you might see something like the gallery below. This part is not required."
      ]
    },
    {
      "cell_type": "markdown",
      "metadata": {
        "id": "wmpI4skkIA5L"
      },
      "source": [
        "<img src=\"https://drive.google.com/uc?export=view&id=12Fy-guiP-3tTPfc9IV2nHhqLvs7LwRo6\" width=\"75%\" height=\"75%\"/>"
      ]
    },
    {
      "cell_type": "markdown",
      "metadata": {
        "id": "uaRSkQPNAPT0"
      },
      "source": [
        "## Save your model\n",
        "\n",
        "Once you are satisfied with the results, you can now save your model. Please download it from the Files window on the left and go back to the Submission portal in Coursera for grading."
      ]
    },
    {
      "cell_type": "code",
      "metadata": {
        "id": "pLFpLP-c7rDR"
      },
      "source": [
        "model.save('mymodel.h5')"
      ],
      "execution_count": 104,
      "outputs": []
    },
    {
      "cell_type": "markdown",
      "metadata": {
        "id": "QArMiXJTDxDe"
      },
      "source": [
        "**Congratulations on completing this week's assignment!**"
      ]
    }
  ]
}