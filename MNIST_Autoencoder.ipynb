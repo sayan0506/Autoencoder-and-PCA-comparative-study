{
  "nbformat": 4,
  "nbformat_minor": 0,
  "metadata": {
    "colab": {
      "name": "MNIST_Autoencoder.ipynb",
      "provenance": [],
      "collapsed_sections": [],
      "include_colab_link": true
    },
    "kernelspec": {
      "name": "python3",
      "display_name": "Python 3"
    },
    "accelerator": "GPU"
  },
  "cells": [
    {
      "cell_type": "markdown",
      "metadata": {
        "id": "view-in-github",
        "colab_type": "text"
      },
      "source": [
        "<a href=\"https://colab.research.google.com/github/sayan0506/Autoencoder-and-PCA-comparative-study/blob/master/MNIST_Autoencoder.ipynb\" target=\"_parent\"><img src=\"https://colab.research.google.com/assets/colab-badge.svg\" alt=\"Open In Colab\"/></a>"
      ]
    },
    {
      "cell_type": "markdown",
      "metadata": {
        "id": "nBXbFax4YP34"
      },
      "source": [
        "## MNIST Autoencoder\n",
        "\n",
        "You will now work on an autoencoder that works on the [MNIST dataset](https://www.tensorflow.org/datasets/catalog/mnist). This will encode the inputs to lower resolution images. The decoder should then be able to generate the original input from this compressed representation."
      ]
    },
    {
      "cell_type": "markdown",
      "metadata": {
        "id": "9ZYaLxnBYUKA"
      },
      "source": [
        "## Imports"
      ]
    },
    {
      "cell_type": "code",
      "metadata": {
        "id": "3EXwoz-KHtWO"
      },
      "source": [
        "try:\n",
        "  # %tensorflow_version only exists in Colab.\n",
        "  %tensorflow_version 2.x\n",
        "except Exception:\n",
        "  pass\n",
        "  \n",
        "import tensorflow as tf\n",
        "import tensorflow_datasets as tfds\n",
        "\n",
        "import numpy as np\n",
        "import matplotlib.pyplot as plt"
      ],
      "execution_count": 3,
      "outputs": []
    },
    {
      "cell_type": "markdown",
      "metadata": {
        "id": "-NMYnr1q04sP"
      },
      "source": [
        "# **Clear Session**\r\n",
        "\r\n",
        "* Clear the Tensorflow Keras session to reinitialize the keras implementation, so that the current training is not affected by the previous one.\r\n",
        "* Use this code before tensorflow implemetation, else if we use it after model definition, it will clear all the allocation or initialization made in that session."
      ]
    },
    {
      "cell_type": "code",
      "metadata": {
        "id": "cPoEpRRN2vlm"
      },
      "source": [
        "tf.keras.backend.clear_session()"
      ],
      "execution_count": 12,
      "outputs": []
    },
    {
      "cell_type": "markdown",
      "metadata": {
        "id": "Is05FyRgYX0c"
      },
      "source": [
        "## Prepare the Dataset"
      ]
    },
    {
      "cell_type": "markdown",
      "metadata": {
        "id": "Xuhe2ksPI8A0"
      },
      "source": [
        "You will load the MNIST data from TFDS into train and test sets. Let's first define a preprocessing function for normalizing and flattening the images. Since we'll be training an autoencoder, this will return `image, image` because the input will also be the target or label while training.\n"
      ]
    },
    {
      "cell_type": "code",
      "metadata": {
        "id": "t9F7YsCNIKSA"
      },
      "source": [
        "def map_image(image, label):\n",
        "  '''Normalizes and flattens the image. Returns image as input and label.'''\n",
        "  image = tf.cast(image, dtype=tf.float32)\n",
        "  image = image / 255.0\n",
        "  image = tf.reshape(image, shape=(784,))\n",
        "\n",
        "  return image, image"
      ],
      "execution_count": 13,
      "outputs": []
    },
    {
      "cell_type": "code",
      "metadata": {
        "id": "08I1mbYSLbsC"
      },
      "source": [
        "# Load the train and test sets from TFDS\n",
        "\n",
        "BATCH_SIZE = 64\n",
        "SHUFFLE_BUFFER_SIZE = 1024\n",
        "\n",
        "train_dataset = tfds.load('mnist', as_supervised=True, split=\"train\")\n",
        "train_dataset = train_dataset.map(map_image)\n",
        "train_dataset = train_dataset.shuffle(SHUFFLE_BUFFER_SIZE).batch(BATCH_SIZE).repeat()\n",
        "\n",
        "test_dataset = tfds.load('mnist', as_supervised=True, split=\"test\")\n",
        "test_dataset = test_dataset.map(map_image)\n",
        "test_dataset = test_dataset.batch(BATCH_SIZE).repeat()"
      ],
      "execution_count": 14,
      "outputs": []
    },
    {
      "cell_type": "markdown",
      "metadata": {
        "id": "Z70w2KXjYk32"
      },
      "source": [
        "## Build the Model"
      ]
    },
    {
      "cell_type": "markdown",
      "metadata": {
        "id": "1MKu48lBM2Qg"
      },
      "source": [
        "You will now build a simple autoencoder to ingest the data. Like before, the encoder will compress the input and reconstructs it in the decoder output."
      ]
    },
    {
      "cell_type": "code",
      "metadata": {
        "id": "KRrE2BV4IpzR",
        "colab": {
          "base_uri": "https://localhost:8080/"
        },
        "outputId": "629beeb0-1d7d-46a9-b6a8-10af9a8b9c09"
      },
      "source": [
        "def simple_autoencoder(inputs):\n",
        "  '''Builds the encoder and decoder using Dense layers.'''\n",
        "  encoder = tf.keras.layers.Dense(units=128, activation='relu')(inputs)\n",
        "  encoder = tf.keras.layers.Dense(units = 32, activation = 'relu')(encoder)\n",
        "  decoder = tf.keras.layers.Dense(units= 128, activation='sigmoid')(encoder)\n",
        "  decoder = tf.keras.layers.Dense(units=784, activation='sigmoid')(decoder)\n",
        "  \n",
        "  return encoder, decoder\n",
        "\n",
        "# set the input shape\n",
        "inputs =  tf.keras.layers.Input(shape=(784,))\n",
        "\n",
        "# get the encoder and decoder output\n",
        "encoder_output, decoder_output = simple_autoencoder(inputs)\n",
        "\n",
        "# setup the encoder because you will visualize its output later\n",
        "encoder_model = tf.keras.Model(inputs=inputs, outputs=encoder_output)\n",
        "\n",
        "# setup the autoencoder\n",
        "autoencoder_model = tf.keras.Model(inputs=inputs, outputs=decoder_output)\n",
        "autoencoder_model.summary()"
      ],
      "execution_count": 15,
      "outputs": [
        {
          "output_type": "stream",
          "text": [
            "Model: \"model_1\"\n",
            "_________________________________________________________________\n",
            "Layer (type)                 Output Shape              Param #   \n",
            "=================================================================\n",
            "input_1 (InputLayer)         [(None, 784)]             0         \n",
            "_________________________________________________________________\n",
            "dense (Dense)                (None, 128)               100480    \n",
            "_________________________________________________________________\n",
            "dense_1 (Dense)              (None, 32)                4128      \n",
            "_________________________________________________________________\n",
            "dense_2 (Dense)              (None, 128)               4224      \n",
            "_________________________________________________________________\n",
            "dense_3 (Dense)              (None, 784)               101136    \n",
            "=================================================================\n",
            "Total params: 209,968\n",
            "Trainable params: 209,968\n",
            "Non-trainable params: 0\n",
            "_________________________________________________________________\n"
          ],
          "name": "stdout"
        }
      ]
    },
    {
      "cell_type": "markdown",
      "metadata": {
        "id": "8k9OnSM4YxJd"
      },
      "source": [
        "## Compile the Model"
      ]
    },
    {
      "cell_type": "markdown",
      "metadata": {
        "id": "DvvDqY_XQPyb"
      },
      "source": [
        "You will setup the model for training. You can use binary crossentropy to measure the loss between pixel values that range from 0 (black) to 1 (white)."
      ]
    },
    {
      "cell_type": "code",
      "metadata": {
        "id": "cFwmAhWAYwcc"
      },
      "source": [
        "autoencoder_model.compile(\n",
        "    optimizer=tf.keras.optimizers.Adam(), \n",
        "    loss='binary_crossentropy')"
      ],
      "execution_count": 16,
      "outputs": []
    },
    {
      "cell_type": "markdown",
      "metadata": {
        "id": "zzLf0oQ1Y0cI"
      },
      "source": [
        "## Train the Model"
      ]
    },
    {
      "cell_type": "code",
      "metadata": {
        "id": "vsaSjlAgYz-7",
        "colab": {
          "base_uri": "https://localhost:8080/"
        },
        "outputId": "aa753f87-52c5-4a1a-bc26-4a5d4cbff446"
      },
      "source": [
        "train_steps = 60000 // BATCH_SIZE\n",
        "simple_auto_history = autoencoder_model.fit(train_dataset, steps_per_epoch=train_steps, epochs=50)"
      ],
      "execution_count": 18,
      "outputs": [
        {
          "output_type": "stream",
          "text": [
            "Epoch 1/50\n",
            "937/937 [==============================] - 4s 4ms/step - loss: 0.1729\n",
            "Epoch 2/50\n",
            "937/937 [==============================] - 4s 4ms/step - loss: 0.1491\n",
            "Epoch 3/50\n",
            "937/937 [==============================] - 4s 4ms/step - loss: 0.1347\n",
            "Epoch 4/50\n",
            "937/937 [==============================] - 3s 4ms/step - loss: 0.1249\n",
            "Epoch 5/50\n",
            "937/937 [==============================] - 4s 4ms/step - loss: 0.1182\n",
            "Epoch 6/50\n",
            "937/937 [==============================] - 3s 4ms/step - loss: 0.1125\n",
            "Epoch 7/50\n",
            "937/937 [==============================] - 3s 4ms/step - loss: 0.1078\n",
            "Epoch 8/50\n",
            "937/937 [==============================] - 3s 4ms/step - loss: 0.1047\n",
            "Epoch 9/50\n",
            "937/937 [==============================] - 4s 4ms/step - loss: 0.1025\n",
            "Epoch 10/50\n",
            "937/937 [==============================] - 4s 4ms/step - loss: 0.1008\n",
            "Epoch 11/50\n",
            "937/937 [==============================] - 4s 4ms/step - loss: 0.0993\n",
            "Epoch 12/50\n",
            "937/937 [==============================] - 3s 4ms/step - loss: 0.0981\n",
            "Epoch 13/50\n",
            "937/937 [==============================] - 4s 4ms/step - loss: 0.0971\n",
            "Epoch 14/50\n",
            "937/937 [==============================] - 4s 4ms/step - loss: 0.0961\n",
            "Epoch 15/50\n",
            "937/937 [==============================] - 3s 4ms/step - loss: 0.0953\n",
            "Epoch 16/50\n",
            "937/937 [==============================] - 4s 4ms/step - loss: 0.0946\n",
            "Epoch 17/50\n",
            "937/937 [==============================] - 3s 4ms/step - loss: 0.0939\n",
            "Epoch 18/50\n",
            "937/937 [==============================] - 3s 4ms/step - loss: 0.0933\n",
            "Epoch 19/50\n",
            "937/937 [==============================] - 4s 4ms/step - loss: 0.0928\n",
            "Epoch 20/50\n",
            "937/937 [==============================] - 4s 4ms/step - loss: 0.0922\n",
            "Epoch 21/50\n",
            "937/937 [==============================] - 3s 4ms/step - loss: 0.0918\n",
            "Epoch 22/50\n",
            "937/937 [==============================] - 3s 4ms/step - loss: 0.0913\n",
            "Epoch 23/50\n",
            "937/937 [==============================] - 4s 4ms/step - loss: 0.0910\n",
            "Epoch 24/50\n",
            "937/937 [==============================] - 4s 4ms/step - loss: 0.0906\n",
            "Epoch 25/50\n",
            "937/937 [==============================] - 4s 4ms/step - loss: 0.0902\n",
            "Epoch 26/50\n",
            "937/937 [==============================] - 4s 4ms/step - loss: 0.0899\n",
            "Epoch 27/50\n",
            "937/937 [==============================] - 4s 4ms/step - loss: 0.0896\n",
            "Epoch 28/50\n",
            "937/937 [==============================] - 4s 4ms/step - loss: 0.0893\n",
            "Epoch 29/50\n",
            "937/937 [==============================] - 4s 4ms/step - loss: 0.0891\n",
            "Epoch 30/50\n",
            "937/937 [==============================] - 3s 4ms/step - loss: 0.0888\n",
            "Epoch 31/50\n",
            "937/937 [==============================] - 4s 4ms/step - loss: 0.0886\n",
            "Epoch 32/50\n",
            "937/937 [==============================] - 4s 4ms/step - loss: 0.0884\n",
            "Epoch 33/50\n",
            "937/937 [==============================] - 4s 4ms/step - loss: 0.0882\n",
            "Epoch 34/50\n",
            "937/937 [==============================] - 4s 4ms/step - loss: 0.0880\n",
            "Epoch 35/50\n",
            "937/937 [==============================] - 4s 4ms/step - loss: 0.0878\n",
            "Epoch 36/50\n",
            "937/937 [==============================] - 4s 4ms/step - loss: 0.0877\n",
            "Epoch 37/50\n",
            "937/937 [==============================] - 4s 4ms/step - loss: 0.0875\n",
            "Epoch 38/50\n",
            "937/937 [==============================] - 3s 4ms/step - loss: 0.0874\n",
            "Epoch 39/50\n",
            "937/937 [==============================] - 4s 4ms/step - loss: 0.0872\n",
            "Epoch 40/50\n",
            "937/937 [==============================] - 4s 4ms/step - loss: 0.0871\n",
            "Epoch 41/50\n",
            "937/937 [==============================] - 4s 4ms/step - loss: 0.0870\n",
            "Epoch 42/50\n",
            "937/937 [==============================] - 4s 4ms/step - loss: 0.0868\n",
            "Epoch 43/50\n",
            "937/937 [==============================] - 4s 4ms/step - loss: 0.0867\n",
            "Epoch 44/50\n",
            "937/937 [==============================] - 4s 5ms/step - loss: 0.0866\n",
            "Epoch 45/50\n",
            "937/937 [==============================] - 4s 4ms/step - loss: 0.0865\n",
            "Epoch 46/50\n",
            "937/937 [==============================] - 4s 4ms/step - loss: 0.0863\n",
            "Epoch 47/50\n",
            "937/937 [==============================] - 4s 4ms/step - loss: 0.0862\n",
            "Epoch 48/50\n",
            "937/937 [==============================] - 4s 4ms/step - loss: 0.0861\n",
            "Epoch 49/50\n",
            "937/937 [==============================] - 4s 4ms/step - loss: 0.0860\n",
            "Epoch 50/50\n",
            "937/937 [==============================] - 4s 4ms/step - loss: 0.0859\n"
          ],
          "name": "stdout"
        }
      ]
    },
    {
      "cell_type": "markdown",
      "metadata": {
        "id": "S7ugSPDG5OK9"
      },
      "source": [
        "# Training History"
      ]
    },
    {
      "cell_type": "code",
      "metadata": {
        "colab": {
          "base_uri": "https://localhost:8080/",
          "height": 281
        },
        "id": "aGT28PvU4OYc",
        "outputId": "c16d21af-81e2-48ce-9694-3ca557c930db"
      },
      "source": [
        "epochs = range(50)\r\n",
        "loss = simple_auto_history.history['loss']\r\n",
        "plt.plot(epochs, loss)\r\n",
        "plt.title('Training Loss History')\r\n",
        "plt.show()"
      ],
      "execution_count": 34,
      "outputs": [
        {
          "output_type": "display_data",
          "data": {
            "image/png": "[encoded data removed]",
            "text/plain": [
              "<Figure size 432x288 with 1 Axes>"
            ]
          },
          "metadata": {
            "tags": [],
            "needs_background": "light"
          }
        }
      ]
    },
    {
      "cell_type": "markdown",
      "metadata": {
        "id": "1_sKLXnBZFSc"
      },
      "source": [
        "## Display sample results\n",
        "\n",
        "You can now visualize the results. The utility functions below will help in plotting the encoded and decoded values."
      ]
    },
    {
      "cell_type": "code",
      "metadata": {
        "id": "5tgFgilORr0M"
      },
      "source": [
        "def display_one_row(disp_images, offset, shape=(28, 28)):\n",
        "  '''Display sample outputs in one row.'''\n",
        "  for idx, test_image in enumerate(disp_images):\n",
        "    plt.subplot(3, 10, offset + idx + 1)\n",
        "    plt.xticks([])\n",
        "    plt.yticks([])\n",
        "    test_image = np.reshape(test_image, shape)\n",
        "    plt.imshow(test_image, cmap='gray')\n",
        "\n",
        "\n",
        "def display_results(disp_input_images, disp_encoded, disp_predicted, enc_shape=(8,4)):\n",
        "  '''Displays the input, encoded, and decoded output values.'''\n",
        "  plt.figure(figsize=(15, 5))\n",
        "  display_one_row(disp_input_images, 0, shape=(28,28,))\n",
        "  display_one_row(disp_encoded, 10, shape=enc_shape)\n",
        "  display_one_row(disp_predicted, 20, shape=(28,28,))"
      ],
      "execution_count": 32,
      "outputs": []
    },
    {
      "cell_type": "code",
      "metadata": {
        "id": "qtQyQRxRN_hH",
        "colab": {
          "base_uri": "https://localhost:8080/",
          "height": 297
        },
        "outputId": "a5aec5a9-aba5-479c-a95d-35386f92fe4e"
      },
      "source": [
        "# take 1 batch of the dataset\n",
        "test_dataset = test_dataset.take(1)\n",
        "\n",
        "# take the input images and put them in a list\n",
        "output_samples = []\n",
        "for input_image, image in tfds.as_numpy(test_dataset):\n",
        "      output_samples = input_image\n",
        "\n",
        "# pick 10 random numbers to be used as indices to the list above\n",
        "idxs = np.random.choice(BATCH_SIZE, size=10)\n",
        "\n",
        "# get the encoder output\n",
        "encoded_predicted = encoder_model.predict(test_dataset)\n",
        "\n",
        "# get a prediction for the test batch\n",
        "simple_predicted = autoencoder_model.predict(test_dataset)\n",
        "\n",
        "# display the 10 samples, encodings and decoded values!\n",
        "display_results(output_samples[idxs], encoded_predicted[idxs], simple_predicted[idxs])"
      ],
      "execution_count": 33,
      "outputs": [
        {
          "output_type": "display_data",
          "data": {
            "image/png": "[encoded data removed]",
            "text/plain": [
              "<Figure size 1080x360 with 30 Axes>"
            ]
          },
          "metadata": {
            "tags": []
          }
        }
      ]
    },
    {
      "cell_type": "markdown",
      "metadata": {
        "id": "r99B-LoqnSEO"
      },
      "source": [
        "**Awsome, Experimentally we see that, as we gradually dicrease the kernel sized as we get more deeper into the Autoencoder, it performs better.**"
      ]
    }
  ]
}